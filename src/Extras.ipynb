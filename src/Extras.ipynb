{
 "cells": [
  {
   "cell_type": "markdown",
   "id": "99382961",
   "metadata": {},
   "source": [
    "Q1 HMM GMM Relations\n",
    "1) GMM is HMM with single emitting state and no terminating state\n",
    "2) Both use EM algo to maximize likelihood\n",
    "3) Both models used to build a classifier from a labelled dataset"
   ]
  },
  {
   "cell_type": "markdown",
   "id": "53165694",
   "metadata": {},
   "source": [
    "Q2"
   ]
  },
  {
   "cell_type": "code",
   "execution_count": 1,
   "id": "94d9811a",
   "metadata": {},
   "outputs": [
    {
     "name": "stdout",
     "output_type": "stream",
     "text": [
      "0.0144\n"
     ]
    }
   ],
   "source": [
    "#S,S,R,C,S\n",
    "ans = 0.3 * 0.6 * 0.2 * 0.4\n",
    "print(ans)"
   ]
  },
  {
   "cell_type": "markdown",
   "id": "570cb509",
   "metadata": {},
   "source": [
    "Q4\n",
    "\n",
    "a)Can use Viterbi to find most probable state sequence associciated with observation sequence if given observation sequence and relevant HMM parameters\n",
    "\n",
    "b) Forward computers observation alogrithm by summing the likelihoods asscociated with all possible hidden state paths that could generated an observation sequence"
   ]
  },
  {
   "cell_type": "code",
   "execution_count": 4,
   "id": "258d87b1",
   "metadata": {},
   "outputs": [
    {
     "name": "stdout",
     "output_type": "stream",
     "text": [
      "[0.0188874  0.01963934 0.0403089  0.06207988 0.0486002 ]\n",
      "4\n"
     ]
    }
   ],
   "source": [
    "#Q5\n",
    "\n",
    "import numpy as np\n",
    "P_M = np.array([0.07, 0.13, 0.31, 0.27, 0.22])\n",
    "log_p = np.array([-1.31, -1.89, -2.04, -1.47, -1.51])\n",
    "print(P_M * np.exp(log_p))\n",
    "print (np.argmax(P_M * np.exp(log_p)) +1)"
   ]
  },
  {
   "cell_type": "code",
   "execution_count": 6,
   "id": "a9193234",
   "metadata": {},
   "outputs": [
    {
     "name": "stdout",
     "output_type": "stream",
     "text": [
      "4096\n"
     ]
    }
   ],
   "source": [
    "#Q6\n",
    "\n",
    "length = 4\n",
    "total_states = 8\n",
    "print(total_states**length)\n",
    "\n",
    "#Q8 Dynamic programming breaks problem up into simpler tasks"
   ]
  },
  {
   "cell_type": "code",
   "execution_count": 59,
   "id": "5f61f3f8",
   "metadata": {},
   "outputs": [
    {
     "name": "stdout",
     "output_type": "stream",
     "text": [
      "-2.4718945606861342\n",
      "0.08442475955999994\n",
      "[[-1.34323487 -2.09845801 -3.74919534]\n",
      " [-2.55104645 -3.30833018 -2.79871782]]\n"
     ]
    }
   ],
   "source": [
    "    signal = np.array([0,1,0])\n",
    "    T = signal.shape[0]\n",
    "    ll = -np.inf\n",
    "    sums_ll = -np.inf\n",
    "    trans = np.array([[0.62, 0.38, 0],\n",
    "                      [0.14, 0.86, 0],\n",
    "                      [0.9 , 0.1 , 0]])\n",
    "    N = 2\n",
    "    dists = np.array([[0.29, 0.78],\n",
    "                      [0.71, 0.22]])\n",
    "    alpha = np.zeros((N,T))\n",
    "\n",
    "    #Create alpha zero column\n",
    "    \n",
    "    for j in range( N):\n",
    "        alpha[j][0] = np.log(dists[signal[0], j]) + np.log(trans[-1][j])\n",
    "\n",
    "\n",
    "        \n",
    "    for t in range(1,T):\n",
    "        for j in range(N):\n",
    "                \n",
    "            sums_ll = -np.inf\n",
    "            for i in range(N):\n",
    "                sums_ll = np.logaddexp((alpha[i][t-1] + np.log(trans[i][j])), sums_ll)\n",
    "\n",
    "            alpha[j][t] = np.log(dists[signal[t], j]) + sums_ll\n",
    "\n",
    "\n",
    "    for j in range(N):\n",
    "\n",
    "        ll = np.logaddexp(alpha[j][-1] ,ll)\n",
    "        \n",
    "        \n",
    "    print(ll)\n",
    "    print(np.exp(ll))\n",
    "    print(alpha)\n"
   ]
  },
  {
   "cell_type": "code",
   "execution_count": 50,
   "id": "2cf263b1",
   "metadata": {},
   "outputs": [
    {
     "name": "stdout",
     "output_type": "stream",
     "text": [
      "[[-1.34323487 -2.09845801 -3.74919534        -inf]\n",
      " [-2.55104645 -3.30833018 -2.79871782        -inf]\n",
      " [       -inf        -inf        -inf  0.        ]]\n",
      "-2.4718945606861342\n",
      "0.08442475955999994\n"
     ]
    }
   ],
   "source": [
    "import numpy as np\n",
    "\n",
    "signal = np.array([[0,1,0]])\n",
    "trans = np.array([[0.62, 0.38, 0],\n",
    "                  [0.14, 0.86, 0],\n",
    "                  [0.9, 0.1, 0]])\n",
    "\n",
    "dists = np.array([[0.29, 0.71],\n",
    "                  [0.78, 0.22]])\n",
    "\n",
    "T = signal.shape[1]\n",
    "N = 2\n",
    "\n",
    "# Initialize log alpha\n",
    "l_alpha = np.full((N+1,T+1), -np.inf)\n",
    "l_alpha[-1,-1] = 0\n",
    "for t in range(T):\n",
    "    for j in range(N):\n",
    "        ll_xs = np.log(dists[j, signal[:,t]])\n",
    "\n",
    "        ll_sum = -np.inf # Initialize log sum\n",
    "        for i in range(-1,N):\n",
    "            l_a = np.log(trans[i,j])\n",
    "            ll_sum = np.logaddexp(ll_sum, l_a + l_alpha[i, t-1])\n",
    "        l_alpha[j,t] = ll_xs + ll_sum\n",
    "\n",
    "ll = -np.inf # Initialize log sum\n",
    "for j in range(N):\n",
    "    # l_a = np.log(trans[j,N])\n",
    "    ll = np.logaddexp(ll, l_alpha[j,T-1])\n",
    "    \n",
    "print(l_alpha)\n",
    "print(ll)\n",
    "print(np.exp(ll))"
   ]
  }
 ],
 "metadata": {
  "kernelspec": {
   "display_name": "Python 3 (ipykernel)",
   "language": "python",
   "name": "python3"
  },
  "language_info": {
   "codemirror_mode": {
    "name": "ipython",
    "version": 3
   },
   "file_extension": ".py",
   "mimetype": "text/x-python",
   "name": "python",
   "nbconvert_exporter": "python",
   "pygments_lexer": "ipython3",
   "version": "3.9.7"
  }
 },
 "nbformat": 4,
 "nbformat_minor": 5
}
